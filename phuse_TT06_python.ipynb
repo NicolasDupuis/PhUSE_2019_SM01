{
 "cells": [
  {
   "cell_type": "markdown",
   "metadata": {},
   "source": [
    "# PhUSE EU Connect 2019 - TT06 (Python)"
   ]
  },
  {
   "cell_type": "markdown",
   "metadata": {},
   "source": [
    "The goal of this notebook is to perfom certain Statistical Programming tasks with Python"
   ]
  },
  {
   "cell_type": "code",
   "execution_count": 1,
   "metadata": {},
   "outputs": [],
   "source": [
    "# import all needed libraries\n",
    "%matplotlib inline\n",
    "from IPython.display import display, HTML\n",
    "\n",
    "import pandas as pd\n",
    "import numpy as np\n",
    "import matplotlib.pyplot as plt\n",
    "plt.style.use('ggplot')"
   ]
  },
  {
   "cell_type": "markdown",
   "metadata": {},
   "source": [
    "## Import data"
   ]
  },
  {
   "cell_type": "markdown",
   "metadata": {},
   "source": [
    "With pandas you can seamlessly import many kinds of data (SAS, XPT, CSV, XLS etc.). We will import a SAS dataset and a XLSX spreadsheet."
   ]
  },
  {
   "cell_type": "code",
   "execution_count": 2,
   "metadata": {},
   "outputs": [],
   "source": [
    "# import Demograpic data (format = SAS) into a pandas Dataframe \n",
    "dm = pd.read_sas('C:\\\\Users\\\\ndupuis\\\\PycharmProjects\\\\discovering_Pandas\\\\dm.sas7bdat', encoding = \"utf-8\")\n",
    "type(dm)\n",
    "\n",
    "# import Vital Signs (format = XLSX) into a pandas Dataframe \n",
    "vs = pd.read_excel('C:\\\\Users\\\\ndupuis\\\\PycharmProjects\\\\discovering_Pandas\\\\vs.xlsx')"
   ]
  },
  {
   "cell_type": "markdown",
   "metadata": {},
   "source": [
    "## Getting to know your data"
   ]
  },
  {
   "cell_type": "markdown",
   "metadata": {},
   "source": [
    "Python, especially combined with Jupyter, offers many ways to understand, comprehend and vizualize your data."
   ]
  },
  {
   "cell_type": "code",
   "execution_count": 3,
   "metadata": {},
   "outputs": [
    {
     "data": {
      "text/html": [
       "<div>\n",
       "<style scoped>\n",
       "    .dataframe tbody tr th:only-of-type {\n",
       "        vertical-align: middle;\n",
       "    }\n",
       "\n",
       "    .dataframe tbody tr th {\n",
       "        vertical-align: top;\n",
       "    }\n",
       "\n",
       "    .dataframe thead th {\n",
       "        text-align: right;\n",
       "    }\n",
       "</style>\n",
       "<table border=\"1\" class=\"dataframe\">\n",
       "  <thead>\n",
       "    <tr style=\"text-align: right;\">\n",
       "      <th></th>\n",
       "      <th>AGEDRV</th>\n",
       "      <th>BRTHCL</th>\n",
       "      <th>BRTHDAT</th>\n",
       "      <th>BRTHDDT</th>\n",
       "      <th>COUNTRY</th>\n",
       "      <th>ETHNICOR</th>\n",
       "      <th>RACEOR</th>\n",
       "      <th>VISIT</th>\n",
       "      <th>SUBJID</th>\n",
       "      <th>QUALIFYV</th>\n",
       "      <th>...</th>\n",
       "      <th>ORIGSITE</th>\n",
       "      <th>RACE</th>\n",
       "      <th>RACESY</th>\n",
       "      <th>REPFLG</th>\n",
       "      <th>SBJINIT</th>\n",
       "      <th>SEX</th>\n",
       "      <th>SITEID</th>\n",
       "      <th>USUBJID</th>\n",
       "      <th>VISITNUM</th>\n",
       "      <th>VISITNU</th>\n",
       "    </tr>\n",
       "  </thead>\n",
       "  <tbody>\n",
       "    <tr>\n",
       "      <th>0</th>\n",
       "      <td>44.0</td>\n",
       "      <td>Y</td>\n",
       "      <td>19690416</td>\n",
       "      <td>19690416</td>\n",
       "      <td>HRV</td>\n",
       "      <td>OTHER</td>\n",
       "      <td>CAUCASIAN</td>\n",
       "      <td>MONTH-1</td>\n",
       "      <td>2105003</td>\n",
       "      <td>NaN</td>\n",
       "      <td>...</td>\n",
       "      <td>2105</td>\n",
       "      <td>CAUCASIAN</td>\n",
       "      <td>NaN</td>\n",
       "      <td>Core</td>\n",
       "      <td>NaN</td>\n",
       "      <td>M</td>\n",
       "      <td>2105</td>\n",
       "      <td>CACZ885M2301_2105003</td>\n",
       "      <td>1.0</td>\n",
       "      <td>10.0</td>\n",
       "    </tr>\n",
       "    <tr>\n",
       "      <th>1</th>\n",
       "      <td>75.0</td>\n",
       "      <td>Y</td>\n",
       "      <td>19380819</td>\n",
       "      <td>19380819</td>\n",
       "      <td>RUS</td>\n",
       "      <td>OTHER</td>\n",
       "      <td>CAUCASIAN</td>\n",
       "      <td>MONTH-1</td>\n",
       "      <td>6064014</td>\n",
       "      <td>NaN</td>\n",
       "      <td>...</td>\n",
       "      <td>6064</td>\n",
       "      <td>CAUCASIAN</td>\n",
       "      <td>NaN</td>\n",
       "      <td>Core</td>\n",
       "      <td>VNI</td>\n",
       "      <td>F</td>\n",
       "      <td>6064</td>\n",
       "      <td>CACZ885M2301_6064014</td>\n",
       "      <td>1.0</td>\n",
       "      <td>10.0</td>\n",
       "    </tr>\n",
       "    <tr>\n",
       "      <th>2</th>\n",
       "      <td>56.0</td>\n",
       "      <td>Y</td>\n",
       "      <td>19571217</td>\n",
       "      <td>19571217</td>\n",
       "      <td>GTM</td>\n",
       "      <td>HISPANIC OR LATINO</td>\n",
       "      <td>OTHER</td>\n",
       "      <td>MONTH-1</td>\n",
       "      <td>3410007</td>\n",
       "      <td>NaN</td>\n",
       "      <td>...</td>\n",
       "      <td>3410</td>\n",
       "      <td>OTHER</td>\n",
       "      <td>LATINO</td>\n",
       "      <td>Core</td>\n",
       "      <td>RWA</td>\n",
       "      <td>M</td>\n",
       "      <td>3410</td>\n",
       "      <td>CACZ885M2301_3410007</td>\n",
       "      <td>1.0</td>\n",
       "      <td>10.0</td>\n",
       "    </tr>\n",
       "    <tr>\n",
       "      <th>3</th>\n",
       "      <td>65.0</td>\n",
       "      <td>Y</td>\n",
       "      <td>19481002</td>\n",
       "      <td>19481002</td>\n",
       "      <td>CAN</td>\n",
       "      <td>OTHER</td>\n",
       "      <td>CAUCASIAN</td>\n",
       "      <td>MONTH-1</td>\n",
       "      <td>1026015</td>\n",
       "      <td>NaN</td>\n",
       "      <td>...</td>\n",
       "      <td>1026</td>\n",
       "      <td>CAUCASIAN</td>\n",
       "      <td>NaN</td>\n",
       "      <td>Core</td>\n",
       "      <td>C-V</td>\n",
       "      <td>F</td>\n",
       "      <td>1026</td>\n",
       "      <td>CACZ885M2301_1026015</td>\n",
       "      <td>1.0</td>\n",
       "      <td>10.0</td>\n",
       "    </tr>\n",
       "    <tr>\n",
       "      <th>4</th>\n",
       "      <td>50.0</td>\n",
       "      <td>Y</td>\n",
       "      <td>19630807</td>\n",
       "      <td>19630807</td>\n",
       "      <td>LVA</td>\n",
       "      <td>OTHER</td>\n",
       "      <td>CAUCASIAN</td>\n",
       "      <td>MONTH-1</td>\n",
       "      <td>6109009</td>\n",
       "      <td>NaN</td>\n",
       "      <td>...</td>\n",
       "      <td>6109</td>\n",
       "      <td>CAUCASIAN</td>\n",
       "      <td>NaN</td>\n",
       "      <td>Core</td>\n",
       "      <td>J-U</td>\n",
       "      <td>M</td>\n",
       "      <td>6109</td>\n",
       "      <td>CACZ885M2301_6109009</td>\n",
       "      <td>1.0</td>\n",
       "      <td>10.0</td>\n",
       "    </tr>\n",
       "  </tbody>\n",
       "</table>\n",
       "<p>5 rows × 38 columns</p>\n",
       "</div>"
      ],
      "text/plain": [
       "   AGEDRV BRTHCL   BRTHDAT   BRTHDDT COUNTRY            ETHNICOR     RACEOR  \\\n",
       "0    44.0      Y  19690416  19690416     HRV               OTHER  CAUCASIAN   \n",
       "1    75.0      Y  19380819  19380819     RUS               OTHER  CAUCASIAN   \n",
       "2    56.0      Y  19571217  19571217     GTM  HISPANIC OR LATINO      OTHER   \n",
       "3    65.0      Y  19481002  19481002     CAN               OTHER  CAUCASIAN   \n",
       "4    50.0      Y  19630807  19630807     LVA               OTHER  CAUCASIAN   \n",
       "\n",
       "     VISIT   SUBJID QUALIFYV   ...    ORIGSITE       RACE  RACESY REPFLG  \\\n",
       "0  MONTH-1  2105003      NaN   ...        2105  CAUCASIAN     NaN   Core   \n",
       "1  MONTH-1  6064014      NaN   ...        6064  CAUCASIAN     NaN   Core   \n",
       "2  MONTH-1  3410007      NaN   ...        3410      OTHER  LATINO   Core   \n",
       "3  MONTH-1  1026015      NaN   ...        1026  CAUCASIAN     NaN   Core   \n",
       "4  MONTH-1  6109009      NaN   ...        6109  CAUCASIAN     NaN   Core   \n",
       "\n",
       "   SBJINIT SEX  SITEID               USUBJID VISITNUM VISITNU  \n",
       "0      NaN   M    2105  CACZ885M2301_2105003      1.0    10.0  \n",
       "1      VNI   F    6064  CACZ885M2301_6064014      1.0    10.0  \n",
       "2      RWA   M    3410  CACZ885M2301_3410007      1.0    10.0  \n",
       "3      C-V   F    1026  CACZ885M2301_1026015      1.0    10.0  \n",
       "4      J-U   M    6109  CACZ885M2301_6109009      1.0    10.0  \n",
       "\n",
       "[5 rows x 38 columns]"
      ]
     },
     "execution_count": 3,
     "metadata": {},
     "output_type": "execute_result"
    }
   ],
   "source": [
    "# Display a glimpse of the DM dataframe \n",
    "dm.head()"
   ]
  },
  {
   "cell_type": "code",
   "execution_count": 4,
   "metadata": {},
   "outputs": [
    {
     "data": {
      "text/plain": [
       "'DM = 17482 rows, 38 columns'"
      ]
     },
     "metadata": {},
     "output_type": "display_data"
    }
   ],
   "source": [
    "# How many rows/cols\n",
    "display(\"DM = \" + str(dm.shape[0]) + \" rows, \" + str(dm.shape[1]) + \" columns\")"
   ]
  },
  {
   "cell_type": "code",
   "execution_count": 5,
   "metadata": {},
   "outputs": [
    {
     "name": "stdout",
     "output_type": "stream",
     "text": [
      "<class 'pandas.core.frame.DataFrame'>\n",
      "RangeIndex: 17482 entries, 0 to 17481\n",
      "Columns: 38 entries, AGEDRV to VISITNU\n",
      "dtypes: datetime64[ns](3), float64(7), object(28)\n",
      "memory usage: 5.1+ MB\n"
     ]
    }
   ],
   "source": [
    "# More info on DM (index, memory, data types)\n",
    "dm.info(verbose=False)"
   ]
  },
  {
   "cell_type": "code",
   "execution_count": 6,
   "metadata": {},
   "outputs": [
    {
     "data": {
      "text/plain": [
       "Index(['AGEDRV', 'BRTHCL', 'BRTHDAT', 'BRTHDDT', 'COUNTRY', 'ETHNICOR',\n",
       "       'RACEOR', 'VISIT', 'SUBJID', 'QUALIFYV', 'REPEATSN', 'STUDYID',\n",
       "       'SUBEVE', 'ACCESSTS', 'ACTEVENT', 'AGECLU', 'BRTHYR', 'DCMNAME',\n",
       "       'DCMSUBNM', 'DOCNUM', 'DOMAIN', 'EPOCH', 'ETHNIC', 'INITCL', 'INV',\n",
       "       'INVSITE', 'LOGINTS', 'LSTCHGTS', 'ORIGSITE', 'RACE', 'RACESY',\n",
       "       'REPFLG', 'SBJINIT', 'SEX', 'SITEID', 'USUBJID', 'VISITNUM', 'VISITNU'],\n",
       "      dtype='object')"
      ]
     },
     "execution_count": 6,
     "metadata": {},
     "output_type": "execute_result"
    }
   ],
   "source": [
    "# list all the DM columns\n",
    "dm.columns"
   ]
  },
  {
   "cell_type": "code",
   "execution_count": 7,
   "metadata": {},
   "outputs": [
    {
     "data": {
      "text/plain": [
       "['CAUCASIAN',\n",
       " 'OTHER',\n",
       " 'BLACK',\n",
       " 'NATIVE AMERICAN',\n",
       " 'ASIAN',\n",
       " 'UNKNOWN',\n",
       " 'PACIFIC ISLANDER']"
      ]
     },
     "execution_count": 7,
     "metadata": {},
     "output_type": "execute_result"
    }
   ],
   "source": [
    "# Display distinct values in column RACE\n",
    "list(dm.RACE.unique())"
   ]
  },
  {
   "cell_type": "code",
   "execution_count": 8,
   "metadata": {},
   "outputs": [
    {
     "data": {
      "text/plain": [
       "RACE\n",
       "ASIAN                2495\n",
       "BLACK                 553\n",
       "CAUCASIAN           13436\n",
       "NATIVE AMERICAN       401\n",
       "OTHER                 570\n",
       "PACIFIC ISLANDER        7\n",
       "UNKNOWN                20\n",
       "dtype: int64"
      ]
     },
     "execution_count": 8,
     "metadata": {},
     "output_type": "execute_result"
    }
   ],
   "source": [
    "# Frequency count on the column RACE (reset_index outputs to a pd.Dataframe)\n",
    "dm.groupby(['RACE']).size()"
   ]
  },
  {
   "cell_type": "code",
   "execution_count": 9,
   "metadata": {},
   "outputs": [
    {
     "data": {
      "text/plain": [
       "count    17482.000000\n",
       "mean        61.432216\n",
       "std         10.229728\n",
       "min         26.000000\n",
       "25%         55.000000\n",
       "50%         62.000000\n",
       "75%         69.000000\n",
       "max         94.000000\n",
       "Name: AGEDRV, dtype: float64"
      ]
     },
     "execution_count": 9,
     "metadata": {},
     "output_type": "execute_result"
    }
   ],
   "source": [
    "# Display some descriptive statistics on the age variable\n",
    "dm[\"AGEDRV\"].describe()"
   ]
  },
  {
   "cell_type": "code",
   "execution_count": 10,
   "metadata": {},
   "outputs": [
    {
     "data": {
      "text/plain": [
       "SEX\n",
       "F    63.176429\n",
       "M    60.877723\n",
       "Name: AGEDRV, dtype: float64"
      ]
     },
     "execution_count": 10,
     "metadata": {},
     "output_type": "execute_result"
    }
   ],
   "source": [
    "# average age, by gender (stored in a pd.Series)\n",
    "avg = dm.groupby('SEX')['AGEDRV'].mean()\n",
    "avg"
   ]
  },
  {
   "cell_type": "code",
   "execution_count": 11,
   "metadata": {
    "scrolled": true
   },
   "outputs": [
    {
     "data": {
      "image/png": "[encoded data removed]",
      "text/plain": [
       "<Figure size 432x288 with 1 Axes>"
      ]
     },
     "metadata": {},
     "output_type": "display_data"
    }
   ],
   "source": [
    "# Plot age frequency using Pandas\n",
    "dm['AGEDRV'].plot(kind='hist', bins=100, title='Age');"
   ]
  },
  {
   "cell_type": "code",
   "execution_count": 12,
   "metadata": {},
   "outputs": [
    {
     "data": {
      "image/png": "[encoded data removed]",
      "text/plain": [
       "<Figure size 432x288 with 1 Axes>"
      ]
     },
     "metadata": {},
     "output_type": "display_data"
    }
   ],
   "source": [
    "# Same plot, but with a filter on data first, to take a closer look at the young ones\n",
    "young = dm[dm['AGEDRV'] < 30]\n",
    "young['AGEDRV'].plot(kind='hist', bins=20, title='Age');"
   ]
  },
  {
   "cell_type": "code",
   "execution_count": 15,
   "metadata": {},
   "outputs": [],
   "source": [
    "# Use a more meaningful index for DM (USUBJID is the unique key variable)\n",
    "#dm.set_index(pd.Index(dm['USUBJID']), inplace = True)\n",
    "#dm.loc[\"CACZ885M2301_1025029\":\"CACZ885M2301_1025029\"]"
   ]
  },
  {
   "cell_type": "markdown",
   "metadata": {},
   "source": [
    "## Data cleaning and preparation"
   ]
  },
  {
   "cell_type": "markdown",
   "metadata": {},
   "source": [
    "Data usually needs some cleaning and transformation before we can really start working on it: handling missings and duplicates, filtering, data issues etc. Once again, Python offers many high-level methods to achieve this."
   ]
  },
  {
   "cell_type": "code",
   "execution_count": null,
   "metadata": {},
   "outputs": [],
   "source": [
    "# List of columns. Huh oh, that doesn't look very standard...\n",
    "vs.columns"
   ]
  },
  {
   "cell_type": "code",
   "execution_count": null,
   "metadata": {},
   "outputs": [],
   "source": [
    "# Keep only certain columns, rename them, sort dataframe and display \n",
    "vs = vs[[\"NPNO\", \"Vital Signs Test Name\", \"Visit Number\", \"VSDAT\", \"Result or\"]]\n",
    "vs.columns = [\"ID\", \"VSname\", \"Visit\", \"VSdate\", \"VSres\"]\n",
    "vs.sort_values(by=[\"ID\", \"VSname\", \"Visit\"], inplace = True)\n",
    "vs.head()"
   ]
  },
  {
   "cell_type": "code",
   "execution_count": null,
   "metadata": {},
   "outputs": [],
   "source": [
    "# search for duplicates \n",
    "duplicates = dm.groupby(\"USUBJID\").size().reset_index(name='counts')\n",
    "if (duplicates[duplicates[\"counts\"] > 1].count()[0] > 0) :\n",
    "    print (\"WARNING: I found duplicates in DM!\")\n",
    "    display (duplicates[duplicates[\"counts\"] > 1])\n",
    "else:\n",
    "    print(\"Good news, no duplicates found in DM.\") "
   ]
  },
  {
   "cell_type": "code",
   "execution_count": null,
   "metadata": {},
   "outputs": [],
   "source": [
    "# same but with a function, using iterable\n",
    "unique_key = {\"dm\" : [\"USUBJID\"], \"vs\":[\"ID\", \"VSname\", \"Visit\"]}\n",
    "def duplicates (domains):\n",
    "    for domain in domains:\n",
    "        keys = unique_key[domain]\n",
    "        duplicates = eval(domain).groupby(keys).size().reset_index(name='counts')\n",
    "        if (duplicates[duplicates[\"counts\"] > 1].count()[0] > 0) :\n",
    "            print (\"WARNING: I found duplicates in \" + domain)\n",
    "            display (duplicates[duplicates[\"counts\"] > 1])\n",
    "        else:\n",
    "            print(\"Good news, no duplicates found in \" + domain) \n",
    "\n",
    "duplicates([\"dm\", \"vs\"])            "
   ]
  },
  {
   "cell_type": "code",
   "execution_count": null,
   "metadata": {},
   "outputs": [],
   "source": [
    "# Test the function by introducing duplicates in DM. Keep it tidy.\n",
    "dm_ori = dm\n",
    "dm = dm.append(dm.loc[1])\n",
    "duplicates([\"dm\"])  \n",
    "dm = dm_ori\n",
    "del dm_ori"
   ]
  },
  {
   "cell_type": "code",
   "execution_count": null,
   "metadata": {},
   "outputs": [],
   "source": [
    "# remove missing ID values \n",
    "rows = vs.shape[0]\n",
    "vs.dropna(subset=['ID'], inplace = True)\n",
    "if (rows - vs2.shape[0]) > 0:\n",
    "    print (\"WARNING: I removed \" + str(rows - vs2.shape[0]) + \" rows due to missing ID, i.e. 'None' or 'NaN'.\")"
   ]
  },
  {
   "cell_type": "markdown",
   "metadata": {},
   "source": [
    "## Data wrangling"
   ]
  },
  {
   "cell_type": "markdown",
   "metadata": {},
   "source": [
    "Join, combine, reshape"
   ]
  },
  {
   "cell_type": "code",
   "execution_count": null,
   "metadata": {},
   "outputs": [],
   "source": [
    "# create baseline\n",
    "baseline = vs[vs[\"Visit\"] ==  1.0].drop(['Visit', 'VSdate'], axis=1)\n",
    "baseline = baseline.rename(columns={'VSres': 'Baseline'})\n",
    "baseline.head()"
   ]
  },
  {
   "cell_type": "code",
   "execution_count": null,
   "metadata": {},
   "outputs": [],
   "source": [
    "# calculate change from baseline\n",
    "vs = pd.merge(vs, baseline, on = [\"ID\", \"VSname\"], how=\"left\")\n",
    "vs[\"Chg\"] = vs.apply(lambda row: row['VSres'] - row['Baseline'] if row['Visit'] > 1.0 else np.nan, axis=1)\n",
    "vs.head(10)"
   ]
  },
  {
   "cell_type": "markdown",
   "metadata": {},
   "source": [
    "## Misc"
   ]
  },
  {
   "cell_type": "code",
   "execution_count": null,
   "metadata": {},
   "outputs": [],
   "source": [
    "def flagBaseline(data, baselineCriteria, baseline_flag=\"bsl\"):\n",
    "    data[baseline_flag] = data.apply(lambda row: \"Y\" if row['Visit'] == 1 else \"N\", axis=1)  # cheating for now\n",
    "\n",
    "# method to derive a change from baseline for a specific paramater.\n",
    "def changeFromBaseline(data, var, groupby, baselineCriteria, newvar = \"chgBsl\", baseline_flag=\"bsl\"):\n",
    "\n",
    "    # create baseline flag\n",
    "    flagBaseline(data=data, baselineCriteria=baselineCriteria, baseline_flag=baseline_flag)    \n",
    "    \n",
    "    # Keep baseline records\n",
    "    baseline = data[vs[baseline_flag] == \"Y\"]\n",
    "\n",
    "    # keep only needed columns\n",
    "    baseline = baseline[groupby + [var]]\n",
    "\n",
    "    # rename 'var' into 'Baseline'\n",
    "    baseline = baseline.rename(columns={var: '__temp'})\n",
    "    \n",
    "    # merge the baseline back to the original dataframe\n",
    "    data = pd.merge(data, baseline, on=groupby, how=\"left\")\n",
    "\n",
    "    # derive change from baseline\n",
    "    data[newvar] = data.apply(lambda row: row[var] - row['__temp'] \\\n",
    "                                     #if (row[baseline_flag] == \"N\" and row[var] != np.nan and row['__temp'] != np.nan) \\\n",
    "                                     if (row[baseline_flag] == \"N\" and \\\n",
    "                                         str(row[var]).isnumeric() and \\\n",
    "                                         str(row[\"__temp\"]).isnumeric()) \\\n",
    "                                     else np.nan, axis=1)\n",
    "    \n",
    "    return data.drop('__temp', axis=1) "
   ]
  },
  {
   "cell_type": "code",
   "execution_count": null,
   "metadata": {},
   "outputs": [],
   "source": [
    "vs = changeFromBaseline(data=vs, var = \"VSres\", groupby = [\"ID\", \"VSname\"], baselineCriteria='vs[\"Visit\"] ==  1.0')\n",
    "vs.head(20)"
   ]
  },
  {
   "cell_type": "code",
   "execution_count": null,
   "metadata": {},
   "outputs": [],
   "source": [
    "# function to derive the last observation carried forward, in case a value if missing. \n",
    "def locf(data, var, groupby):\n",
    "    \n",
    "    \n",
    "    "
   ]
  },
  {
   "cell_type": "code",
   "execution_count": null,
   "metadata": {},
   "outputs": [],
   "source": []
  }
 ],
 "metadata": {
  "kernelspec": {
   "display_name": "Python 3",
   "language": "python",
   "name": "python3"
  },
  "language_info": {
   "codemirror_mode": {
    "name": "ipython",
    "version": 3
   },
   "file_extension": ".py",
   "mimetype": "text/x-python",
   "name": "python",
   "nbconvert_exporter": "python",
   "pygments_lexer": "ipython3",
   "version": "3.6.5"
  }
 },
 "nbformat": 4,
 "nbformat_minor": 2
}
